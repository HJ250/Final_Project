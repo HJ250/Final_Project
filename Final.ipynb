{
 "cells": [
  {
   "cell_type": "markdown",
   "id": "acca4832-ddfa-403d-a04a-baa712739187",
   "metadata": {},
   "source": [
    "### Import Libraries"
   ]
  },
  {
   "cell_type": "code",
   "execution_count": null,
   "id": "6bd2e6e0-e343-47ae-a0ee-b715df251eab",
   "metadata": {},
   "outputs": [],
   "source": [
    "import numpy as np\n",
    "import pandas as pd\n",
    "import matplotlib.pyplot as plt\n",
    "import seaborn as sns\n",
    "import statsmodels.api as sm\n",
    "import datetime\n",
    "import scipy.stats\n",
    "import warnings\n",
    "warnings.filterwarnings('ignore')\n",
    "\n",
    "pd.set_option('display.max_columns',None)\n",
    "pd.set_option('display.width', 1000)\n",
    "\n",
    "np.random.seed(0)\n",
    "np.set_printoptions(suppress=True)"
   ]
  },
  {
   "cell_type": "code",
   "execution_count": null,
   "id": "46e3bb9d-0192-42a0-8884-34aad0df2795",
   "metadata": {},
   "outputs": [],
   "source": [
    "boston_url = 'https://cf-courses-data.s3.us.cloud-object-storage.appdomain.cloud/IBMDeveloperSkillsNetwork-ST0151EN-SkillsNetwork/labs/boston_housing.csv'\n",
    "boston_df = pd.read_csv(boston_url)"
   ]
  },
  {
   "cell_type": "code",
   "execution_count": null,
   "id": "417038c3-4d6e-4557-89b9-c7beb15f39d0",
   "metadata": {},
   "outputs": [],
   "source": [
    "boston_df.head()"
   ]
  },
  {
   "cell_type": "markdown",
   "id": "9f881c2d-465a-4079-a067-12f4dcf08b91",
   "metadata": {},
   "source": [
    "### Exploratory Data Analysis"
   ]
  },
  {
   "cell_type": "code",
   "execution_count": null,
   "id": "b0851677-f0fe-4172-a65c-5b1a1ac14f0c",
   "metadata": {},
   "outputs": [],
   "source": [
    "boston_df.info()"
   ]
  },
  {
   "cell_type": "markdown",
   "id": "9c5cc356-e979-4baa-b4ce-7aba8d5f98ae",
   "metadata": {
    "tags": []
   },
   "source": [
    "### Exploratory Data Analysis"
   ]
  },
  {
   "cell_type": "code",
   "execution_count": null,
   "id": "1d5f59bf-ab7d-4b76-a27c-f79bcb68f32e",
   "metadata": {},
   "outputs": [],
   "source": [
    "boston_df.info()"
   ]
  },
  {
   "cell_type": "code",
   "execution_count": null,
   "id": "f5038169-5eb1-4ab4-9dd1-ad9f1e5a619b",
   "metadata": {},
   "outputs": [],
   "source": [
    "boston_df.describe()"
   ]
  },
  {
   "cell_type": "code",
   "execution_count": null,
   "id": "72ab2598-6d76-4404-8919-26594d91ca3c",
   "metadata": {},
   "outputs": [],
   "source": [
    "boston_df.columns"
   ]
  },
  {
   "cell_type": "markdown",
   "id": "a76936c3-0386-4ded-99ef-18703cf92932",
   "metadata": {},
   "source": [
    "### Data Visualization"
   ]
  },
  {
   "cell_type": "code",
   "execution_count": null,
   "id": "5cf77816-77ab-44e8-9163-95a86e5d4943",
   "metadata": {},
   "outputs": [],
   "source": [
    "boston_df.hist(bins=50, figsize=(20,10))\n",
    "plt.suptitle('Feature Distribution', x=0.5, y=1.02, ha='center', fontsize='large')\n",
    "plt.tight_layout()\n",
    "plt.show()"
   ]
  },
  {
   "cell_type": "code",
   "execution_count": null,
   "id": "8380e2df-1e44-4abb-a00b-f0dc937fc493",
   "metadata": {},
   "outputs": [],
   "source": [
    "plt.figure(figsize=(20,20))\n",
    "plt.suptitle('Pairplots of features', x=0.5, y=1.02, ha='center', fontsize='large')\n",
    "sns.pairplot(boston_df.sample(250))\n",
    "plt.show()"
   ]
  },
  {
   "cell_type": "markdown",
   "id": "266068d2-3476-4653-b41b-6cba2a354af8",
   "metadata": {
    "tags": []
   },
   "source": [
    "### Task 4: Generate Descriptive Statistics and Visualizations"
   ]
  },
  {
   "cell_type": "code",
   "execution_count": null,
   "id": "381bd9a2-46fe-44e4-9bb7-6f1955a856c3",
   "metadata": {},
   "outputs": [],
   "source": [
    "plt.figure(figsize=(10,5))\n",
    "sns.boxplot(x=boston_df.MEDV)\n",
    "plt.title(\"Boxplot for MEDV\")\n",
    "plt.show()"
   ]
  },
  {
   "cell_type": "code",
   "execution_count": null,
   "id": "f59243fa-292c-4001-ab96-2d9ec987c5a5",
   "metadata": {},
   "outputs": [],
   "source": [
    "plt.figure(figsize=(10,5))\n",
    "sns.distplot(a=boston_df.CHAS,bins=10, kde=False)\n",
    "plt.title(\"Histogram for Charles river\")\n",
    "plt.show()"
   ]
  },
  {
   "cell_type": "code",
   "execution_count": null,
   "id": "d4efbe6d-2c09-43ed-a1ed-aa05d5d2931b",
   "metadata": {},
   "outputs": [],
   "source": [
    "boston_df.loc[(boston_df[\"AGE\"] <= 35),'age_group'] = '35 years and younger'\n",
    "boston_df.loc[(boston_df[\"AGE\"] > 35) & (boston_df[\"AGE\"]<70),'age_group'] = 'between 35 and 70 years'\n",
    "boston_df.loc[(boston_df[\"AGE\"] >= 70),'age_group'] = '70 years and older'\n",
    "boston_df.head()"
   ]
  },
  {
   "cell_type": "code",
   "execution_count": null,
   "id": "463e2b4b-1766-4b19-ac17-db2ec0830b2d",
   "metadata": {},
   "outputs": [],
   "source": [
    "plt.figure(figsize=(10,5))\n",
    "sns.boxplot(x=boston_df.MEDV, y=boston_df.age_group, data=boston_df)\n",
    "plt.title(\"Boxplot for the MEDV variable vs the AGE variable\")\n",
    "plt.show()"
   ]
  },
  {
   "cell_type": "code",
   "execution_count": null,
   "id": "7095a25c-ab1d-48e2-8185-fa6f23f44486",
   "metadata": {},
   "outputs": [],
   "source": [
    "plt.figure(figsize=(10,5))\n",
    "sns.scatterplot(x=boston_df.NOX, y=boston_df.INDUS, data=boston_df)\n",
    "plt.title(\"Relationship between NOX and INDUS\")\n",
    "plt.show()"
   ]
  },
  {
   "cell_type": "code",
   "execution_count": null,
   "id": "91862d2a-362e-4644-a92f-3341c1b9248e",
   "metadata": {},
   "outputs": [],
   "source": [
    "plt.figure(figsize=(10,5))\n",
    "sns.distplot(a=boston_df.PTRATIO,bins=10, kde=False)\n",
    "plt.title(\"Histogram for the pupil to teacher ratio variable\")\n",
    "plt.show()"
   ]
  },
  {
   "cell_type": "markdown",
   "id": "297a1b11-5a59-4804-9cb2-e7fe6258bc33",
   "metadata": {},
   "source": [
    "### Task 5: Use the appropriate tests to answer the questions provided"
   ]
  },
  {
   "cell_type": "markdown",
   "id": "8e65e447-dc89-47ed-89ac-61144bc0d445",
   "metadata": {},
   "source": [
    "#### Is there a significant difference in median value of houses bounded by the Charles river or not? (T-test for independent samples)"
   ]
  },
  {
   "cell_type": "code",
   "execution_count": null,
   "id": "269ac4ec-858d-422c-830c-a08efb42b26c",
   "metadata": {},
   "outputs": [],
   "source": [
    "boston_df[\"CHAS\"].value_counts()"
   ]
  },
  {
   "cell_type": "code",
   "execution_count": null,
   "id": "1a418e20-0518-40d6-88a3-ec0768785c88",
   "metadata": {},
   "outputs": [],
   "source": [
    "H0 = boston_df[boston_df[\"CHAS\"] == 0][\"MEDV\"]\n",
    "H0"
   ]
  },
  {
   "cell_type": "code",
   "execution_count": null,
   "id": "531f269e-19e8-434d-8b9a-43c500d41ce9",
   "metadata": {},
   "outputs": [],
   "source": [
    "H1 = boston_df[boston_df[\"CHAS\"] == 1][\"MEDV\"]\n",
    "H1"
   ]
  },
  {
   "cell_type": "code",
   "execution_count": null,
   "id": "82eda227-3ac0-40d2-9451-bb6679ea65e2",
   "metadata": {},
   "outputs": [],
   "source": [
    "scipy.stats.ttest_ind(H0,H1,axis=0,equal_var=True)\n",
    "#there is no statistical significance"
   ]
  },
  {
   "cell_type": "markdown",
   "id": "fd205f19-a521-47f9-8327-59153e84c0f9",
   "metadata": {},
   "source": [
    "#### Is there a difference in Median values of houses (MEDV) for each proportion of owner occupied units built prior to 1940 (AGE)? (ANOVA)"
   ]
  },
  {
   "cell_type": "code",
   "execution_count": null,
   "id": "7f2edefb-c721-4f13-b270-fee9fda471d6",
   "metadata": {},
   "outputs": [],
   "source": [
    "boston_df[\"AGE\"].value_counts()"
   ]
  },
  {
   "cell_type": "code",
   "execution_count": null,
   "id": "1c441391-7e8f-4623-a53c-e02dd2ac3c9f",
   "metadata": {},
   "outputs": [],
   "source": [
    "boston_df.loc[(boston_df[\"AGE\"] <= 35),'age_group'] = '35 years and younger'\n",
    "boston_df.loc[(boston_df[\"AGE\"] > 35) & (boston_df[\"AGE\"]<70),'age_group'] = 'between 35 and 70 years'\n",
    "boston_df.loc[(boston_df[\"AGE\"] >= 70),'age_group'] = '70 years and older'"
   ]
  },
  {
   "cell_type": "code",
   "execution_count": null,
   "id": "decc51e1-b8ce-4499-a6ea-f59e5bced36d",
   "metadata": {},
   "outputs": [],
   "source": [
    "boston_df.head()"
   ]
  },
  {
   "cell_type": "code",
   "execution_count": null,
   "id": "606f1cf3-2b90-4f30-8ed8-b58c055feba4",
   "metadata": {},
   "outputs": [],
   "source": [
    "M0 = boston_df[boston_df[\"age_group\"] == '35 years and younger'][\"MEDV\"]\n",
    "M1 = boston_df[boston_df[\"age_group\"] == 'between 35 and 70 years'][\"MEDV\"]\n",
    "M2 = boston_df[boston_df[\"age_group\"] == '70 years and older'][\"MEDV\"]"
   ]
  },
  {
   "cell_type": "code",
   "execution_count": null,
   "id": "f387273a-ad5f-4f24-a038-e1c8e3871f66",
   "metadata": {},
   "outputs": [],
   "source": [
    "f_stats, p_value = scipy.stats.f_oneway(M0,M1,M2,axis=0)"
   ]
  },
  {
   "cell_type": "code",
   "execution_count": null,
   "id": "6f17d3b1-abc4-41c3-b418-358f1df80b89",
   "metadata": {},
   "outputs": [],
   "source": [
    "print(\"F-Statistic={0}, P-value={1}\".format(f_stats,p_value))"
   ]
  },
  {
   "cell_type": "markdown",
   "id": "0a72bb89-ac53-4702-955c-24389aacd8bb",
   "metadata": {},
   "source": [
    "#### Can we conclude that there is no relationship between Nitric oxide concentrations and proportion of non-retail business acres per town? (Pearson Correlation)"
   ]
  },
  {
   "cell_type": "code",
   "execution_count": null,
   "id": "ccb34d1c-99a3-4a30-a106-a0984783d675",
   "metadata": {},
   "outputs": [],
   "source": [
    "pearson,p_value = scipy.stats.pearsonr(boston_df[\"NOX\"], boston_df[\"INDUS\"])"
   ]
  },
  {
   "cell_type": "code",
   "execution_count": null,
   "id": "9773c219-6304-47d5-88fd-06b2f776aae9",
   "metadata": {},
   "outputs": [],
   "source": [
    "print(\"Pearson Coefficient value={0}, P-value={1}\".format(pearson,p_value))"
   ]
  },
  {
   "cell_type": "code",
   "execution_count": null,
   "id": "a9f9c126-80f1-4cc4-98c0-13ecf047ca06",
   "metadata": {},
   "outputs": [],
   "source": [
    "#there exists a relationship between Nitric Oxide and non-retail business acres per town."
   ]
  },
  {
   "cell_type": "markdown",
   "id": "04639b50-100c-43f6-b5d4-06433c4fcb2d",
   "metadata": {},
   "source": [
    "#### What is the impact of an additional weighted distance to the five Boston employment centres on the median value of owner occupied homes? (Regression analysis)"
   ]
  },
  {
   "cell_type": "code",
   "execution_count": null,
   "id": "5f7accf5-26ff-4f90-9f09-ea680b874c97",
   "metadata": {},
   "outputs": [],
   "source": [
    "boston_df.columns"
   ]
  },
  {
   "cell_type": "code",
   "execution_count": null,
   "id": "4e9a84af-2331-4418-9733-5d437097d1c2",
   "metadata": {},
   "outputs": [],
   "source": [
    "y = boston_df['MEDV']\n",
    "x = boston_df['DIS']"
   ]
  },
  {
   "cell_type": "code",
   "execution_count": null,
   "id": "8302c15d-99b5-4977-bc52-9265f23609a8",
   "metadata": {},
   "outputs": [],
   "source": [
    "x = sm.add_constant(x)"
   ]
  },
  {
   "cell_type": "code",
   "execution_count": null,
   "id": "b022946b-a6c1-4f7b-b9e6-69beb37eb706",
   "metadata": {},
   "outputs": [],
   "source": [
    "results = sm.OLS(y,x).fit()\n",
    "results.summary()"
   ]
  },
  {
   "cell_type": "code",
   "execution_count": null,
   "id": "43a2c5a7-dd6f-46ac-9606-f12e54af5dce",
   "metadata": {},
   "outputs": [],
   "source": [
    "np.sqrt(0.062)"
   ]
  },
  {
   "cell_type": "markdown",
   "id": "76bb9464-f7a9-4347-bf15-06d345a77dd2",
   "metadata": {},
   "source": [
    "### Correlation"
   ]
  },
  {
   "cell_type": "code",
   "execution_count": null,
   "id": "4769e282-79d3-42ba-a565-66f6da9e92e8",
   "metadata": {},
   "outputs": [],
   "source": [
    "boston_df.corr()"
   ]
  },
  {
   "cell_type": "code",
   "execution_count": null,
   "id": "558f4773-3693-4f1c-b738-5baae7caad37",
   "metadata": {},
   "outputs": [],
   "source": [
    "plt.figure(figsize=(16,9))\n",
    "sns.heatmap(boston_df.corr(),cmap=\"coolwarm\",annot=True,fmt='.2f',linewidths=2, cbar=False)\n",
    "plt.show()"
   ]
  }
 ],
 "metadata": {
  "kernelspec": {
   "display_name": "Python 3 (ipykernel)",
   "language": "python",
   "name": "python3"
  },
  "language_info": {
   "codemirror_mode": {
    "name": "ipython",
    "version": 3
   },
   "file_extension": ".py",
   "mimetype": "text/x-python",
   "name": "python",
   "nbconvert_exporter": "python",
   "pygments_lexer": "ipython3",
   "version": "3.9.7"
  }
 },
 "nbformat": 4,
 "nbformat_minor": 5
}
